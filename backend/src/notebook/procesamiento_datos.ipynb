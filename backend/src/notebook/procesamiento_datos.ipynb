{
 "cells": [
  {
   "cell_type": "code",
   "execution_count": 15,
   "metadata": {},
   "outputs": [],
   "source": [
    "import pandas as pd\n",
    "import re"
   ]
  },
  {
   "cell_type": "code",
   "execution_count": 16,
   "metadata": {},
   "outputs": [
    {
     "name": "stderr",
     "output_type": "stream",
     "text": [
      "C:\\Users\\OPERADOR\\AppData\\Local\\Temp\\ipykernel_13280\\3658394942.py:1: DtypeWarning: Columns (7,14,17,18,21,28,39,42,46) have mixed types. Specify dtype option on import or set low_memory=False.\n",
      "  data = pd.read_csv(\"L_STMaestroPrd.csv\")\n"
     ]
    }
   ],
   "source": [
    "data = pd.read_csv(\"L_STMaestroPrd.csv\")"
   ]
  },
  {
   "cell_type": "code",
   "execution_count": 18,
   "metadata": {},
   "outputs": [
    {
     "data": {
      "text/plain": [
       "0                                                      - -\n",
       "1                                                      - -\n",
       "2        (REPETIDO) SUPPORTAN 500ML CAJA X 15 SACHET X ...\n",
       "3        BOLSAS PAPEL GRADO MEDICO 175X65X420MM - KIMS ...\n",
       "4        BOLSAS PAPEL GRADO MEDICO 260X60X520MM - KIMS ...\n",
       "                               ...                        \n",
       "56769                           ZYVALIX 250 mg comp.x 120 \n",
       "56770                       ZYVALIX PLUS 500 mg comp.x 60 \n",
       "56771    ZYVOX IV 600 mg bolsas x 10x300ml CAJA X 10 BO...\n",
       "56772                          ZYVOX ORAL 600 mg tab.x 10 \n",
       "56773                                    ZZ TOP comp.x 30 \n",
       "Name: descrip1_descrip2, Length: 56774, dtype: object"
      ]
     },
     "execution_count": 18,
     "metadata": {},
     "output_type": "execute_result"
    }
   ],
   "source": [
    "data.columns[data.isna().all()]\n",
    "data = data.dropna(axis=1, how='all')\n",
    "data[\"descrip1_descrip2\"] = data[\"descrip1\"].fillna('') + \" \" + data[\"descrip2\"].fillna('')\n",
    "data[\"descrip1_descrip2\"]"
   ]
  },
  {
   "cell_type": "code",
   "execution_count": 19,
   "metadata": {},
   "outputs": [
    {
     "data": {
      "text/plain": [
       "0                                                      - -\n",
       "1                                                      - -\n",
       "2        (repetido) supportan 500ml caja x 15 sachet x ...\n",
       "3        bolsas papel grado medico 175x65x420mm - kims ...\n",
       "4        bolsas papel grado medico 260x60x520mm - kims ...\n",
       "                               ...                        \n",
       "56769                            zyvalix 250 mg comp.x 120\n",
       "56770                        zyvalix plus 500 mg comp.x 60\n",
       "56771    zyvox iv 600 mg bolsas x 10x300ml caja x 10 bo...\n",
       "56772                           zyvox oral 600 mg tab.x 10\n",
       "56773                                     zz top comp.x 30\n",
       "Name: descrip1_descrip2, Length: 56774, dtype: object"
      ]
     },
     "execution_count": 19,
     "metadata": {},
     "output_type": "execute_result"
    }
   ],
   "source": [
    "# 1. Eliminar espacios innecesarios.\n",
    "# 2. Homogeneizar texto.\n",
    "\n",
    "\"\"\" \n",
    "1.1. Eliminar Espacios Innecesarios\n",
    "Los espacios extra pueden generar inconsistencias en la comparación de descripciones:\n",
    "\n",
    "Problema: \"Aspirina 10ml \" y \"Aspirina 10ml\" se consideran diferentes.\n",
    "Solución:\n",
    "Quitar espacios al inicio y final de cada descripción.\n",
    "Reducir múltiples espacios consecutivos entre palabras a un solo espacio.\n",
    "Ejemplo:\n",
    "Entrada: \" Aspirina 10ml \"\n",
    "Salida: \"Aspirina 10ml\"\n",
    "\n",
    "1.2. Homogeneizar Texto\n",
    "La comparación debe ser insensible a mayúsculas/minúsculas:\n",
    "\n",
    "Problema: \"ASPIRINA\" y \"aspirina\" se consideran diferentes.\n",
    "Solución:\n",
    "Convertir todo el texto a minúsculas o mayúsculas según convenga.\n",
    "Ejemplo:\n",
    "Entrada: \"Aspirina Tableta\"\n",
    "Salida: \"aspirina tableta\"\n",
    "\"\"\"\n",
    "\n",
    "data['descrip1_descrip2'] = data['descrip1_descrip2'].str.strip().str.replace(r'\\s+', ' ', regex=True).str.lower()\n",
    "data['descrip1_descrip2']"
   ]
  },
  {
   "cell_type": "code",
   "execution_count": 20,
   "metadata": {},
   "outputs": [
    {
     "data": {
      "text/plain": [
       "0                                                         \n",
       "1                                                         \n",
       "2        repetido supportan 500ml caja x 15 sachet x 50...\n",
       "3        bolsas papel grado medico 175x65x420mm  kims b...\n",
       "4        bolsas papel grado medico 260x60x520mm  kims p...\n",
       "                               ...                        \n",
       "56769                             zyvalix 250 mg compx 120\n",
       "56770                         zyvalix plus 500 mg compx 60\n",
       "56771    zyvox iv 600 mg bolsas x 10x300ml caja x 10 bo...\n",
       "56772                            zyvox oral 600 mg tabx 10\n",
       "56773                                      zz top compx 30\n",
       "Name: descrip1_descrip2, Length: 56774, dtype: object"
      ]
     },
     "execution_count": 20,
     "metadata": {},
     "output_type": "execute_result"
    }
   ],
   "source": [
    "# 3. Remover caracteres especiales.\n",
    "\n",
    "\"\"\"\n",
    "1.3. Eliminar Caracteres Especiales Innecesarios\n",
    "Caracteres como #, %, *, pueden no aportar valor y generar ruido:\n",
    "\n",
    "Problema: \"Aspirina#10ml\" no debería incluir #.\n",
    "Solución:\n",
    "Remover caracteres que no sean letras, números, espacios o separadores importantes como /, x.\n",
    "Ejemplo:\n",
    "Entrada: \"Aspirina# 10ml % Blíster\"\n",
    "Salida: \"Aspirina 10ml Blíster\"\n",
    "\"\"\"\n",
    "\n",
    "# Remover caracteres no deseados, permitiendo letras, números, espacios, 'x', '/' y '%'\n",
    "data['descrip1_descrip2'] = data['descrip1_descrip2'].str.replace(r'[^a-zA-Z0-9\\s%]', '', regex=True)\n",
    "\n",
    "\n",
    "data[\"descrip1_descrip2\"]"
   ]
  },
  {
   "cell_type": "code",
   "execution_count": 34,
   "metadata": {},
   "outputs": [
    {
     "data": {
      "text/plain": [
       "100                                    aha crx 75\n",
       "101            a 4 body lotion durazno locx 220 g\n",
       "102            a 4 body lotion manzana locx 220 g\n",
       "103               a 4 body lotion meln locx 220 g\n",
       "104                        a 4 calendula crx 60 g\n",
       "105              abacavir elea 300 mg comprecx 60\n",
       "106    abacavir lamivudina trb pharma comprecx 30\n",
       "107                      abaglin 100 mg capsx 100\n",
       "108                       abaglin 100 mg capsx 30\n",
       "109                       abaglin 100 mg capsx 50\n",
       "110                      abaglin 300 mg capsx 100\n",
       "111                       abaglin 300 mg capsx 30\n",
       "112                       abaglin 300 mg capsx 50\n",
       "113                       abaglin 300 mg capsx 60\n",
       "114                      abaglin 400 mg capsx 100\n",
       "115                       abaglin 400 mg capsx 30\n",
       "116                       abaglin 400 mg capsx 50\n",
       "117                       abaglin 400 mg capsx 60\n",
       "118               abanta emulslimpiadora x 250 ml\n",
       "119               abanta emulslimpiadora x 500 ml\n",
       "120                              abanta jabx 80 g\n",
       "121                              abanta pdax 45 g\n",
       "122                              abanta pdax 70 g\n",
       "123                              abanta pvox 70 g\n",
       "124                            abanta toallhmx 84\n",
       "125                      abarax 100 mg comp x 100\n",
       "126                       abarax 50 mg comp x 100\n",
       "127                     abaxon 10 mg x 10 comprec\n",
       "128                     abaxon 10 mg x 30 comprec\n",
       "129                     abaxon 15 mg x 30 comprec\n",
       "130                     abaxon 25 mg x 30 comprec\n",
       "131                     abaxon 20 mg x 30 comprec\n",
       "132                      abelcet 100 mg fax 20 ml\n",
       "133                abelcet 50 mg inyfax 1 x 10 ml\n",
       "134                      aberic 250 mg comp x 120\n",
       "135                           abine 1000 mg fax 1\n",
       "136                            abine 200 mg fax 1\n",
       "137                             abintra sobx 27 g\n",
       "138                           abiotyl 1 g inyax 1\n",
       "139                           abiotyl 1 g inyax 5\n",
       "140                   abiotyl 250 mg suspx 120 ml\n",
       "141                    abiotyl 250 mg suspx 60 ml\n",
       "142                    abiotyl 250 mg suspx 90 ml\n",
       "143                    abiotyl 500 mg suspx 90 ml\n",
       "144                   abiranova 250 mg comp x 120\n",
       "145                 abiraterona 250 mg comp x 120\n",
       "146                 abiraterona 250 mg comp x 120\n",
       "147        abiraterona glenmark 250 mg comp x 120\n",
       "148                        abloom 10 mg comp x 30\n",
       "149                       abloom 5 5 mg comp x 30\n",
       "Name: descrip1_descrip2, dtype: object"
      ]
     },
     "execution_count": 34,
     "metadata": {},
     "output_type": "execute_result"
    }
   ],
   "source": [
    "def estandarizar_descripcion(texto):\n",
    "    # 1. Separar números de letras (ej: 420mm -> 420 mm)\n",
    "    texto = re.sub(r'(\\d)([a-zA-Z])', r'\\1 \\2', texto)\n",
    "    texto = re.sub(r'([a-zA-Z])(\\d)', r'\\1 \\2', texto)\n",
    "    \n",
    "    # 2. Agregar espacios alrededor de la 'x' usada como separador (ej: 10x10 -> 10 x 10)\n",
    "    texto = re.sub(r'(?<=\\d)x(?=\\d)', r' x ', texto)\n",
    "    \n",
    "    # 3. Normalizar términos específicos combinados (ej: tabx -> tab x)\n",
    "    texto = re.sub(r'\\b(tabx)\\b', r'tab x', texto, flags=re.IGNORECASE)\n",
    "    texto = re.sub(r'\\b(compx)\\b', r'comp x', texto, flags=re.IGNORECASE)\n",
    "    \n",
    "    # 4. Reemplazar separadores como guiones o barras con espacios\n",
    "    texto = re.sub(r'[-/]', ' ', texto)\n",
    "    \n",
    "    # 5. Remover espacios redundantes\n",
    "    texto = re.sub(r'\\s+', ' ', texto).strip()\n",
    "    \n",
    "    return texto\n",
    "\n",
    "# Aplicar la función al DataFrame\n",
    "data['descrip1_descrip2'] = data['descrip1_descrip2'].apply(estandarizar_descripcion)\n",
    "\n",
    "data[\"descrip1_descrip2\"].iloc[100:150]\n",
    "\n"
   ]
  }
 ],
 "metadata": {
  "kernelspec": {
   "display_name": "Python 3",
   "language": "python",
   "name": "python3"
  },
  "language_info": {
   "codemirror_mode": {
    "name": "ipython",
    "version": 3
   },
   "file_extension": ".py",
   "mimetype": "text/x-python",
   "name": "python",
   "nbconvert_exporter": "python",
   "pygments_lexer": "ipython3",
   "version": "3.11.9"
  }
 },
 "nbformat": 4,
 "nbformat_minor": 2
}

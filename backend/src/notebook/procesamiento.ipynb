{
 "cells": [
  {
   "cell_type": "markdown",
   "metadata": {},
   "source": [
    "# 1. Recepción de Archivos y Clasificación  \n",
    "Se implementa una función que recibe un archivo y detecta su tipo.\n",
    "\n",
    "Librerías utilizadas:\n",
    "-   os y mimetypes para identificar formatos.\n",
    "-   pdfplumber y PyMuPDF para PDFs.\n",
    "-   Pillow para imágenes.\n",
    "-   pandas y openpyxl para Excel."
   ]
  },
  {
   "cell_type": "code",
   "execution_count": 23,
   "metadata": {},
   "outputs": [],
   "source": [
    "import os\n",
    "import mimetypes\n",
    "\n",
    "def identificar_tipo_archivo(ruta):\n",
    "    tipo, _ = mimetypes.guess_type(ruta)\n",
    "    if tipo:\n",
    "        tipo_principal, subtipo = tipo.split('/')  # Separa el tipo principal y el subtipo\n",
    "        if tipo_principal == \"image\":\n",
    "            return \"imagen\"\n",
    "        elif tipo_principal == \"application\" and subtipo == \"pdf\": # Manejo específico para PDF\n",
    "            return \"pdf\"\n",
    "        elif tipo_principal == \"application\" and \"msword\" in subtipo or subtipo==\"vnd.ms-office\":  # Word .doc y .docx\n",
    "            return \"word\"\n",
    "        elif tipo_principal == \"application\" and \"excel\" in subtipo or subtipo==\"vnd.ms-office\": # Excel .xls y .xlsx\n",
    "            return \"excel\"\n",
    "        elif tipo_principal == \"text\" or subtipo == \"csv\":  # Texto y CSV\n",
    "            return \"texto\"\n",
    "        elif tipo_principal == \"audio\":\n",
    "            return \"audio\"\n",
    "        elif tipo_principal == \"video\":\n",
    "            return \"video\"\n",
    "        elif tipo_principal == \"text\" and subtipo == \"html\":\n",
    "            return \"html\"\n",
    "        elif tipo_principal == \"text\" and subtipo == \"css\":\n",
    "            return \"css\"\n",
    "        elif tipo_principal == \"application\" and subtipo == \"javascript\" or subtipo == \"x-javascript\":\n",
    "            return \"javascript\"\n",
    "        elif tipo_principal == \"application\" and subtipo == \"json\":\n",
    "            return \"json\"\n",
    "        elif tipo_principal == \"application\" and subtipo == \"xml\" or subtipo == \"atom+xml\" or subtipo == \"rss+xml\": # XML, Atom, RSS\n",
    "            return \"xml\"\n",
    "    return \"desconocido\""
   ]
  },
  {
   "cell_type": "code",
   "execution_count": 14,
   "metadata": {},
   "outputs": [
    {
     "name": "stdout",
     "output_type": "stream",
     "text": [
      "pdf\n"
     ]
    }
   ],
   "source": [
    "prueba_pdf = identificar_tipo_archivo('prueba4.pdf')\n",
    "print(prueba_pdf) "
   ]
  },
  {
   "cell_type": "markdown",
   "metadata": {},
   "source": [
    "# 2. Extracción de Texto según Tipo de Documento"
   ]
  },
  {
   "cell_type": "markdown",
   "metadata": {},
   "source": [
    "Si es una imagen o PDF escaneado:\n",
    "\n",
    "- Utilizamos PaddleOCR o EasyOCR.\n",
    "\n",
    "- Se preprocesa la imagen para mejorar el OCR (ajuste de contraste, umbralización, etc.)."
   ]
  },
  {
   "cell_type": "code",
   "execution_count": 4,
   "metadata": {},
   "outputs": [],
   "source": [
    "from paddleocr import PaddleOCR\n",
    "from PIL import Image\n",
    "import cv2\n",
    "import numpy as np\n",
    "\n",
    "def ocr_imagen(ruta):\n",
    "    ocr = PaddleOCR()\n",
    "    resultado = ocr.ocr(ruta, cls=True)\n",
    "    texto_extraido = \"\\n\".join([line[1][0] for line in resultado[0]])\n",
    "    return texto_extraido"
   ]
  },
  {
   "cell_type": "code",
   "execution_count": 5,
   "metadata": {},
   "outputs": [
    {
     "name": "stdout",
     "output_type": "stream",
     "text": [
      "[2025/02/03 11:17:38] ppocr DEBUG: Namespace(help='==SUPPRESS==', use_gpu=False, use_xpu=False, use_npu=False, use_mlu=False, ir_optim=True, use_tensorrt=False, min_subgraph_size=15, precision='fp32', gpu_mem=500, gpu_id=0, image_dir=None, page_num=0, det_algorithm='DB', det_model_dir='C:\\\\Users\\\\OPERADOR/.paddleocr/whl\\\\det\\\\ch\\\\ch_PP-OCRv4_det_infer', det_limit_side_len=960, det_limit_type='max', det_box_type='quad', det_db_thresh=0.3, det_db_box_thresh=0.6, det_db_unclip_ratio=1.5, max_batch_size=10, use_dilation=False, det_db_score_mode='fast', det_east_score_thresh=0.8, det_east_cover_thresh=0.1, det_east_nms_thresh=0.2, det_sast_score_thresh=0.5, det_sast_nms_thresh=0.2, det_pse_thresh=0, det_pse_box_thresh=0.85, det_pse_min_area=16, det_pse_scale=1, scales=[8, 16, 32], alpha=1.0, beta=1.0, fourier_degree=5, rec_algorithm='SVTR_LCNet', rec_model_dir='C:\\\\Users\\\\OPERADOR/.paddleocr/whl\\\\rec\\\\ch\\\\ch_PP-OCRv4_rec_infer', rec_image_inverse=True, rec_image_shape='3, 48, 320', rec_batch_num=6, max_text_length=25, rec_char_dict_path='c:\\\\Users\\\\OPERADOR\\\\AppData\\\\Local\\\\Programs\\\\Python\\\\Python311\\\\Lib\\\\site-packages\\\\paddleocr\\\\ppocr\\\\utils\\\\ppocr_keys_v1.txt', use_space_char=True, vis_font_path='./doc/fonts/simfang.ttf', drop_score=0.5, e2e_algorithm='PGNet', e2e_model_dir=None, e2e_limit_side_len=768, e2e_limit_type='max', e2e_pgnet_score_thresh=0.5, e2e_char_dict_path='./ppocr/utils/ic15_dict.txt', e2e_pgnet_valid_set='totaltext', e2e_pgnet_mode='fast', use_angle_cls=False, cls_model_dir='C:\\\\Users\\\\OPERADOR/.paddleocr/whl\\\\cls\\\\ch_ppocr_mobile_v2.0_cls_infer', cls_image_shape='3, 48, 192', label_list=['0', '180'], cls_batch_num=6, cls_thresh=0.9, enable_mkldnn=False, cpu_threads=10, use_pdserving=False, warmup=False, sr_model_dir=None, sr_image_shape='3, 32, 128', sr_batch_num=1, draw_img_save_dir='./inference_results', save_crop_res=False, crop_res_save_dir='./output', use_mp=False, total_process_num=1, process_id=0, benchmark=False, save_log_path='./log_output/', show_log=True, use_onnx=False, return_word_box=False, output='./output', table_max_len=488, table_algorithm='TableAttn', table_model_dir=None, merge_no_span_structure=True, table_char_dict_path=None, formula_algorithm='LaTeXOCR', formula_model_dir=None, formula_char_dict_path=None, formula_batch_num=1, layout_model_dir=None, layout_dict_path=None, layout_score_threshold=0.5, layout_nms_threshold=0.5, kie_algorithm='LayoutXLM', ser_model_dir=None, re_model_dir=None, use_visual_backbone=True, ser_dict_path='../train_data/XFUND/class_list_xfun.txt', ocr_order_method=None, mode='structure', image_orientation=False, layout=True, table=True, formula=False, ocr=True, recovery=False, recovery_to_markdown=False, use_pdf2docx_api=False, invert=False, binarize=False, alphacolor=(255, 255, 255), lang='ch', det=True, rec=True, type='ocr', savefile=False, ocr_version='PP-OCRv4', structure_version='PP-StructureV2')\n",
      "[2025/02/03 11:17:38] ppocr WARNING: Since the angle classifier is not initialized, it will not be used during the forward process\n",
      "[2025/02/03 11:17:39] ppocr DEBUG: dt_boxes num : 275, elapsed : 0.7274057865142822\n",
      "[2025/02/03 11:17:46] ppocr DEBUG: rec_res num  : 275, elapsed : 6.4987473487854\n"
     ]
    },
    {
     "data": {
      "text/plain": [
       "'jansser\\n13-Dec-24\\nLISTADEPRECIOS\\nPRODUCTOSHOSPITALARIOS\\nN CERTICodigo\\nDescripcion\\nPrecio sin Iva\\nPrecio conlva\\n59671\\n459238BALVERSA\\n3 mg x 56 comprimidos\\n13.598.961.47\\n16,454,743.38\\n59671\\n459239|BALVERSA\\n3 mg × 84 comprimidos\\n20,398,442.32\\n24,682,115.21\\n59671\\n459241BALVERSA\\n4 mg × 28 comprimidos\\n9,065,974.44\\n10,969,829.07\\n59671\\n459242|BALVERSA\\n4 mg x 56 comprimidos\\n18,131,948.52\\n21,939,657.71\\n59671\\n459243BALVERSA\\n5 mg x 28 comprimidos\\n11,332,468.07\\n13,712,286.36\\n54054\\n385693\\nDACOGEN\\nINYECTABLE VIAL X 1\\n2.825.394.95\\n3,418.727.89\\n58367\\n457399\\nDARZALEX\\nVIAL 100 mg / 5 ml\\n799.644.87\\n967.570.29\\n58367\\n457400\\nDARZALEX\\nVIAL 400 mg / 20 ml\\n3.090.408.39\\n3.739.394.15\\n59800\\n470588\\nDARZALEX SC\\nsubcutaneo 1800 mg/15 ML x 1 VIAL\\n9,271,225.39\\n11,218,182.72\\n58821\\n419439\\nERLEADA\\n60 MG X 120 COMPRIMIDOS\\n6,404,236.13\\n7,749. 125.72\\n57817\\n414886\\nIMBRUVICA\\n140 mg x 90 capsulas\\n9,772,918.20\\n11,825,231.02\\n57817\\n140 mg x 120 capsulas\\n13.030.558.32\\n15.766,.975.57\\n54574\\n415002\\nINTELENCE 200 MG\\nCOMPRIMIDOS POR 60\\n1,430.381.58\\n1,730,761.71\\n53448\\n411734|PREZISTA 150 mg. X 240 comprimidos\\ncomprimidosx240\\n1,447.037.36\\n1,750,915.21\\n53448\\n410591PREZISTA 400 mg x 60 comprimidos\\ncomprimidos x 60\\n993.673.44\\n1,202,344.86\\n53448\\n410177PREZISTA 600 mg. x 60 COMP.\\ncomprimidos x 60\\n1,490.447.68\\n1,803,441.69\\n47946\\nFCO AMP x 100 mg-Polvo Liofilizado\\n922.436.32\\n1,116,147.95\\n59896\\n470994|RYBREVANT\\nvial 350 mg/7 ml\\n1,392,839.34\\n1,685,335.60\\n55910\\n412353SIMPONI\\n - JERINGA PRELLENADA\\nJeringa prellenada x50 mgs x1\\n2.202,313.67\\n2.664.799.54\\n55910\\n411986\\n6|SIMPONI AUTOINYECTOR\\nautoinyector X50 mgs x 1\\n2,202,313.67\\n2,664,799.54\\n55910\\n413756|SIMPONI AUTOINYECTOR 100Mg\\nautoinyector X1\\n3.719.786.00\\n4,500.941.06\\n58256\\n415193SIMPONI.V. x4 m/50 mg Sollny\\nVIAL x 50 mg\\n1.468.207.67\\n1,776.531.28\\n59173\\n457431SPRAVATO\\n56 mg - 2 Spray Nasal x 28 mg\\n371.460.51\\n449.467.22\\n59173\\n457432\\nSPRAVATO\\n84 mg -3 Spray Nasal x28 mg\\n557,190.96\\n674,201.06\\n55459\\n418071STELARA\\nJeringa Prellenada 45 mg /0.5 ML\\n5,744,782.91\\n6.951, 187.32\\n55459\\n419256\\nSTELARA\\nJeringa Prellenada 90 mg / 1 ML\\n5,999,423.60\\n7,259.302.56\\n55459\\n471925\\nSTELARA\\nAutoinyector 90 mg /1 ML\\n5,999.423.60\\n7,259.302.56\\n58926\\n417706\\nSTELARA IV\\nVial x 130 mg / 26 ML\\n5,999.423.60\\n7,259.302.56\\n32394\\nSUBLIMAZEs/conservador\\n5 amp x 2 ml\\n5,229.90\\n6.328.18\\n32394\\nservador\\n 5 amp x 5 ml\\n15.082.39\\n18.249.69\\n58874\\n457233\\nSYMTUZA\\ncomprimidosx30\\n900,169.24\\n1,089,204.78\\n60099\\n472015\\n153 mg/1.7 ml - Vial\\n5.360.330.67\\n6,486.000.11\\n60099\\n472014\\nTECVAYLI\\n 30 mg/3 ml - Vial\\n1,050,624.81\\n1,271,256.02\\n59012\\n459883\\nTREMFYA\\nAutoinyector 100 mg/ml\\n3,669.649.60\\n4,440,276.02\\n51503\\n416140\\nVELCADE\\n3,5 MG.INYECTABLE X 1 VIAL\\n2,942,876.14\\n3.560.880.13\\n56602\\n417633\\nZYTIGA 500 mg. X 60 comp\\ncomprimidos x60\\n4,463,192.84\\n5,400,463.34\\n55028\\n417733\\nTRACLEER\\n62.5 MG X 56 COMP.\\n3.949.844.11\\n4,779.311.37\\n55028\\n417734\\nTRACLEER\\n125 MG X 56 COMP.\\n4,024,375.41\\n4,869,494.\\n56224\\n417736\\nZAVESCA\\n100MG X 90 CAPSULAS\\n13.864,236.32\\n16.775.725.95\\n57623\\n417737OPSUMIT\\n10 MGX30 COMP\\n4.999.701.62\\n6.049.638.96\\n59780\\n471879OPSYNVI\\nFrasco x30 Comprimidos\\n4,999,701.62\\n6,049,638.96\\n57782\\n417738VELETRI\\n1 VIAL X 1.5 MG\\n886.516.80\\n1.072,685.33\\n57782\\n417739\\nVELETRI\\n1 VIAL X 0.5 MG\\n340,952.4\\n412,552.40\\n58818\\n419363\\n3UPTRAVI\\n200 MCG X 60 COMPRIMIDOS\\n8.544,954.28\\n10.339.394.68\\n58818\\n41936\\n4UPTRAVI\\n200 MCG X 140 COMPRIMIDOS\\n12,390,184.83\\n14,992,123.64\\n58818\\n419365UPTRAVI\\n400 MCGX 60 COMPRIMIDOS\\n8,544,954.28\\n10.339.394.68\\n58818\\n419366UPTRAVI\\n600 MCG X 60 COMPRIMIDOS\\n8.544,954.28\\n10.339.394.68\\n58818\\n419367UPTRAVI\\n800MCG X60 COMPRIMIDOS\\n8,544,954.28\\n10.339.394.68\\n58818\\n419371UPTRAVI\\n1600MCG X 60 COMPRIMIDOS\\n8.544,954.28\\n10.339.394.68'"
      ]
     },
     "execution_count": 5,
     "metadata": {},
     "output_type": "execute_result"
    }
   ],
   "source": [
    "imagen = ocr_imagen('prueba4.pdf')\n",
    "imagen\n"
   ]
  },
  {
   "cell_type": "markdown",
   "metadata": {},
   "source": [
    "Si es un PDF de texto:\n",
    "\n",
    "- Se extrae con pdfplumber o PyMuPDF."
   ]
  },
  {
   "cell_type": "code",
   "execution_count": 26,
   "metadata": {},
   "outputs": [
    {
     "ename": "SyntaxError",
     "evalue": "unterminated string literal (detected at line 5) (3043304386.py, line 5)",
     "output_type": "error",
     "traceback": [
      "\u001b[1;36m  Cell \u001b[1;32mIn[28], line 5\u001b[1;36m\u001b[0m\n\u001b[1;33m    texto = \"\\\".join([page.extract_text() for page in pdf.pages if page.extract_text()])\u001b[0m\n\u001b[1;37m            ^\u001b[0m\n\u001b[1;31mSyntaxError\u001b[0m\u001b[1;31m:\u001b[0m unterminated string literal (detected at line 5)\n"
     ]
    }
   ],
   "source": [
    "import pdfplumber\n",
    "\n",
    "def extraer_texto_pdf(ruta):\n",
    "    with pdfplumber.open(ruta) as pdf:\n",
    "        texto = \"\\\".join([page.extract_text() for page in pdf.pages if page.extract_text()])\n",
    "    return texto"
   ]
  },
  {
   "cell_type": "code",
   "execution_count": 27,
   "metadata": {},
   "outputs": [
    {
     "name": "stdout",
     "output_type": "stream",
     "text": [
      "MENDOZA 1259 CAPITAL FEDERAL (1428) TEL. 4789-7200 FAX 4788-0139\n",
      "13-Dec-24\n",
      "LISTA DE PRECIOS - PRODUCTOS HOSPITALARIOS\n",
      "N° CERTI Código Descripción Precio sin Iva Precio con Iva\n",
      "59671 459238BALVERSA 3 mg x 56 comprimidos 13,598,961.47 16,454,743.38\n",
      "59671 459239BALVERSA 3 mg x 84 comprimidos 20,398,442.32 24,682,115.21\n",
      "59671 459241BALVERSA 4 mg x 28 comprimidos 9,065,974.44 10,969,829.07\n",
      "59671 459242BALVERSA 4 mg x 56 comprimidos 18,131,948.52 21,939,657.71\n",
      "59671 459243BALVERSA 5 mg x 28 comprimidos 11,332,468.07 13,712,286.36\n",
      "54054 385693DACOGEN INYECTABLE VIAL X 1 2,825,394.95 3,418,727.89\n",
      "58367 457399DARZALEX VIAL 100 mg / 5 ml 799,644.87 967,570.29\n",
      "58367 457400DARZALEX VIAL 400 mg / 20 ml 3,090,408.39 3,739,394.15\n",
      "59800 470588DARZALEX SC subcutáneo 1800 mg/15 ML x 1 VIAL 9,271,225.39 11,218,182.72\n",
      "58821 419439ERLEADA 60 MG X 120 COMPRIMIDOS 6,404,236.13 7,749,125.72\n",
      "57817 414886IMBRUVICA 140 mg x 90 cápsulas 9,772,918.20 11,825,231.02\n",
      "57817 414887IMBRUVICA 140 mg x 120 cápsulas 13,030,558.32 15,766,975.57\n",
      "54574 415002INTELENCE 200 MG COMPRIMIDOS POR 60 1,430,381.58 1,730,761.71\n",
      "53448 411734PREZISTA 150 mg. X 240 comprimidos comprimidos x 240 1,447,037.36 1,750,915.21\n",
      "53448 410591PREZISTA 400 mg x 60 comprimidos comprimidos x 60 993,673.44 1,202,344.86\n",
      "53448 410177PREZISTA 600 mg. x 60 COMP. comprimidos x 60 1,490,447.68 1,803,441.69\n",
      "47946 411660REMICADE 1 Fco Amp x 100 mg FCO AMP x 100 mg-Polvo Liofilizado 922,436.32 1,116,147.95\n",
      "59896 470994RYBREVANT vial 350 mg/7 ml 1,392,839.34 1,685,335.60\n",
      "55910 412353SIMPONI - JERINGA PRELLENADA Jeringa prellenada x 50 mgs x 1 2,202,313.67 2,664,799.54\n",
      "55910 411986SIMPONI AUTOINYECTOR autoinyector X 50 mgs x 1 2,202,313.67 2,664,799.54\n",
      "55910 413756SIMPONI AUTOINYECTOR 100 Mg autoinyector X 1 3,719,786.00 4,500,941.06\n",
      "58256 415193SIMPONI I.V. x 4 ml/50 mg Sol Iny VIAL x 50 mg 1,468,207.67 1,776,531.28\n",
      "59173 457431SPRAVATO 56 mg - 2 Spray Nasal x 28 mg 371,460.51 449,467.22\n",
      "59173 457432SPRAVATO 84 mg - 3 Spray Nasal x 28 mg 557,190.96 674,201.06\n",
      "55459 418071STELARA Jeringa Prellenada 45 mg / 0,5 ML 5,744,782.91 6,951,187.32\n",
      "55459 419256STELARA Jeringa Prellenada 90 mg / 1 ML 5,999,423.60 7,259,302.56\n",
      "55459 471925STELARA Autoinyector 90 mg / 1 ML 5,999,423.60 7,259,302.56\n",
      "58926 417706STELARA IV Vial x 130 mg / 26 ML 5,999,423.60 7,259,302.56\n",
      "32394 90639SUBLIMAZE s/conservador 5 amp x 2 ml 5,229.90 6,328.18\n",
      "32394 90640SUBLIMAZE s/conservador 5 amp x 5 ml 15,082.39 18,249.69\n",
      "58874 457233SYMTUZA comprimidos x 30 900,169.24 1,089,204.78\n",
      "60099 472015TECVAYLI 153 mg/1.7 ml - Vial 5,360,330.67 6,486,000.11\n",
      "60099 472014TECVAYLI 30 mg/3 ml - Vial 1,050,624.81 1,271,256.02\n",
      "59012 459883TREMFYA Autoinyector 100 mg/ml 3,669,649.60 4,440,276.02\n",
      "51503 416140VELCADE 3,5 MG. INYECTABLE X 1 VIAL 2,942,876.14 3,560,880.13\n",
      "56602 417633ZYTIGA 500 mg. X 60 comp comprimidos x 60 4,463,192.84 5,400,463.34\n",
      "55028 417733TRACLEER 62.5 MG X 56 COMP. 3,949,844.11 4,779,311.37\n",
      "55028 417734TRACLEER 125 MG X 56 COMP. 4,024,375.41 4,869,494.25\n",
      "56224 417736ZAVESCA 100 MG X 90 CAPSULAS 13,864,236.32 16,775,725.95\n",
      "57623 417737OPSUMIT 10 MG X 30 COMP. 4,999,701.62 6,049,638.96\n",
      "59780 471879OPSYNVI Frasco x 30 Comprimidos 4,999,701.62 6,049,638.96\n",
      "57782 417738VELETRI 1 VIAL X 1.5 MG 886,516.80 1,072,685.33\n",
      "57782 417739VELETRI 1 VIAL X 0.5 MG 340,952.40 412,552.40\n",
      "58818 419363UPTRAVI 200 MCG X 60 COMPRIMIDOS 8,544,954.28 10,339,394.68\n",
      "58818 419364UPTRAVI 200 MCG X 140 COMPRIMIDOS 12,390,184.83 14,992,123.64\n",
      "58818 419365UPTRAVI 400 MCG X 60 COMPRIMIDOS 8,544,954.28 10,339,394.68\n",
      "58818 419366UPTRAVI 600 MCG X 60 COMPRIMIDOS 8,544,954.28 10,339,394.68\n",
      "58818 419367UPTRAVI 800 MCG X 60 COMPRIMIDOS 8,544,954.28 10,339,394.68\n",
      "58818 419371UPTRAVI 1600 MCG X 60 COMPRIMIDOS 8,544,954.28 10,339,394.68\n"
     ]
    }
   ],
   "source": [
    "pdf = extraer_texto_pdf('prueba4.pdf')\n",
    "print(pdf)"
   ]
  },
  {
   "cell_type": "markdown",
   "metadata": {},
   "source": [
    "Si es un archivo de texto o Excel:\n",
    "\n",
    "- pandas y openpyxl permiten extraer los datos directamente."
   ]
  },
  {
   "cell_type": "code",
   "execution_count": 8,
   "metadata": {},
   "outputs": [],
   "source": [
    "import pandas as pd\n",
    "\n",
    "def leer_excel(ruta):\n",
    "    df = pd.read_excel(ruta)\n",
    "    return df.to_string()"
   ]
  },
  {
   "cell_type": "markdown",
   "metadata": {},
   "source": [
    "# 3. Procesamiento de Texto con IA (NLP y Normalización)\n",
    "\n",
    "- Utilizamos BERT, Spacy y Regex para estructurar los datos.\n",
    "\n",
    "- Se identifican palabras clave como nombres de productos, códigos y cantidades."
   ]
  },
  {
   "cell_type": "code",
   "execution_count": 17,
   "metadata": {},
   "outputs": [],
   "source": [
    "import spacy\n",
    "import re\n",
    "\n",
    "nlp = spacy.load(\"es_core_news_sm\")\n",
    "\n",
    "def normalizar_texto(texto):\n",
    "    texto = texto.lower()\n",
    "    texto = re.sub(r\"[^a-zA-Z0-9\\s]\", \"\", texto)  # Eliminar caracteres especiales\n",
    "    doc = nlp(texto)\n",
    "    tokens = [token.lemma_ for token in doc if not token.is_stop]\n",
    "    return \" \".join(tokens)"
   ]
  },
  {
   "cell_type": "code",
   "execution_count": 25,
   "metadata": {},
   "outputs": [
    {
     "name": "stdout",
     "output_type": "stream",
     "text": [
      "mendozar 1259 capital federal 1428 tel 47897200 fax 47880139 \n",
      " 13dec24 \n",
      " lista precio   producto hospitalario \n",
      " n certi cdigo descripcin precio iva precio iva \n",
      " 59671 459238balversa 3 mg x 56 comprimido 1359896147 1645474338 \n",
      " 59671 459239balversa 3 mg x 84 comprimido 2039844232 2468211521 \n",
      " 59671 459241balverso 4 mg x 28 comprimido 906597444 1096982907 \n",
      " 59671 459242balversa 4 mg x 56 comprimido 1813194852 2193965771 \n",
      " 59671 459243balversa 5 mg x 28 comprimido 1133246807 1371228636 \n",
      " 54054 385693dacogen inyectable vial x 1 282539495 341872789 \n",
      " 58367 457399darzalex vial 100 mg   5 ml 79964487 96757029 \n",
      " 58367 457400darzalex vial 400 mg   20 ml 309040839 373939415 \n",
      " 59800 470588darzalex sc subcutneo 1800 mg15 ml x 1 vial 927122539 1121818272 \n",
      " 58821 419439erleada 60 mg x 120 comprimido 640423613 774912572 \n",
      " 57817 414886imbruvica 140 mg x 90 cpsula 977291820 1182523102 \n",
      " 57817 414887imbruvica 140 mg x 120 cpsula 1303055832 1576697557 \n",
      " 54574 415002intelence 200 mg comprimido 60 143038158 173076171 \n",
      " 53448 411734prezista 150 mg x 240 comprimido comprimido x 240 144703736 175091521 \n",
      " 53448 410591prezista 400 mg x 60 comprimido comprimido x 60 99367344 120234486 \n",
      " 53448 410177prezista 600 mg x 60 comp comprimido x 60 149044768 180344169 \n",
      " 47946 411660remicade 1 fco amp x 100 mg fco amp x 100 mgpolvo liofilizado 92243632 111614795 \n",
      " 59896 470994rybrevant vial 350 mg7 ml 139283934 168533560 \n",
      " 55910 412353simponi   jeringuir prellenado jeringa prellenado x 50 mgs x 1 220231367 266479954 \n",
      " 55910 411986simponi autoinyector autoinyector x 50 mgs x 1 220231367 266479954 \n",
      " 55910 413756simponi autoinyector 100 mg autoinyector x 1 371978600 450094106 \n",
      " 58256 415193simponi iv x 4 ml50 mg sol iny vial x 50 mg 146820767 177653128 \n",
      " 59173 457431spravato 56 mg   2 spray nasal x 28 mg 37146051 44946722 \n",
      " 59173 457432spravato 84 mg   3 spray nasal x 28 mg 55719096 67420106 \n",
      " 55459 418071stelara jeringuir prellenado 45 mg   05 ml 574478291 695118732 \n",
      " 55459 419256stelara jeringuir prellenado 90 mg   1 ml 599942360 725930256 \n",
      " 55459 471925stelara autoinyector 90 mg   1 ml 599942360 725930256 \n",
      " 58926 417706stelara iv vial x 130 mg   26 ml 599942360 725930256 \n",
      " 32394 90639sublimaze sconservador 5 amp x 2 ml 522990 632818 \n",
      " 32394 90640sublimaze sconservador 5 amp x 5 ml 1508239 1824969 \n",
      " 58874 457233symtuza comprimido x 30 90016924 108920478 \n",
      " 60099 472015tecvayli 153 mg17 ml   vial 536033067 648600011 \n",
      " 60099 472014tecvayli 30 mg3 ml   vial 105062481 127125602 \n",
      " 59012 459883tremfya autoinyector 100 mgml 366964960 444027602 \n",
      " 51503 416140velcade 35 mg inyectable x 1 vial 294287614 356088013 \n",
      " 56602 417633zytiga 500 mg x 60 comp comprimido x 60 446319284 540046334 \n",
      " 55028 417733tracleer 625 mg x 56 comp 394984411 477931137 \n",
      " 55028 417734tracleer 125 mg x 56 comp 402437541 486949425 \n",
      " 56224 417736zavesca 100 mg x 90 capsula 1386423632 1677572595 \n",
      " 57623 417737opsumit 10 mg x 30 comp 499970162 604963896 \n",
      " 59780 471879opsynvi frasco x 30 comprimido 499970162 604963896 \n",
      " 57782 417738veletri 1 vial x 15 mg 88651680 107268533 \n",
      " 57782 417739veletri 1 vial x 05 mg 34095240 41255240 \n",
      " 58818 419363uptravi 200 mcg x 60 comprimido 854495428 1033939468 \n",
      " 58818 419364uptravi 200 mcg x 140 comprimido 1239018483 1499212364 \n",
      " 58818 419365uptravi 400 mcg x 60 comprimido 854495428 1033939468 \n",
      " 58818 419366uptravi 600 mcg x 60 comprimido 854495428 1033939468 \n",
      " 58818 419367uptravi 800 mcg x 60 comprimido 854495428 1033939468 \n",
      " 58818 419371uptravi 1600 mcg x 60 comprimido 854495428 1033939468\n"
     ]
    }
   ],
   "source": [
    "pdf_normalizar_texto = normalizar_texto(pdf)\n",
    "print(pdf_normalizar_texto)"
   ]
  },
  {
   "cell_type": "markdown",
   "metadata": {},
   "source": [
    "# 4. Conversión del Texto Extraído a CSV\n",
    "- Se estructura en un DataFrame y se guarda en CSV o Excel."
   ]
  },
  {
   "cell_type": "code",
   "execution_count": 20,
   "metadata": {},
   "outputs": [],
   "source": [
    "def guardar_csv(datos, nombre_archivo=\"output.csv\"):\n",
    "    df = pd.DataFrame(datos)\n",
    "    df.to_csv(nombre_archivo, index=False, encoding=\"utf-8-sig\")"
   ]
  },
  {
   "cell_type": "code",
   "execution_count": 21,
   "metadata": {},
   "outputs": [
    {
     "ename": "ValueError",
     "evalue": "DataFrame constructor not properly called!",
     "output_type": "error",
     "traceback": [
      "\u001b[1;31m---------------------------------------------------------------------------\u001b[0m",
      "\u001b[1;31mValueError\u001b[0m                                Traceback (most recent call last)",
      "\u001b[1;32m~\\AppData\\Local\\Temp\\ipykernel_13568\\4067110453.py\u001b[0m in \u001b[0;36m?\u001b[1;34m()\u001b[0m\n\u001b[1;32m----> 1\u001b[1;33m \u001b[0mpdf_normalizar_texto\u001b[0m  \u001b[1;33m=\u001b[0m \u001b[0mguardar_csv\u001b[0m\u001b[1;33m(\u001b[0m\u001b[0mpdf_normalizar_texto\u001b[0m\u001b[1;33m)\u001b[0m\u001b[1;33m\u001b[0m\u001b[1;33m\u001b[0m\u001b[0m\n\u001b[0m",
      "\u001b[1;32m~\\AppData\\Local\\Temp\\ipykernel_13568\\4030947449.py\u001b[0m in \u001b[0;36m?\u001b[1;34m(datos, nombre_archivo)\u001b[0m\n\u001b[0;32m      1\u001b[0m \u001b[1;32mdef\u001b[0m \u001b[0mguardar_csv\u001b[0m\u001b[1;33m(\u001b[0m\u001b[0mdatos\u001b[0m\u001b[1;33m,\u001b[0m \u001b[0mnombre_archivo\u001b[0m\u001b[1;33m=\u001b[0m\u001b[1;34m\"output.csv\"\u001b[0m\u001b[1;33m)\u001b[0m\u001b[1;33m:\u001b[0m\u001b[1;33m\u001b[0m\u001b[1;33m\u001b[0m\u001b[0m\n\u001b[1;32m----> 2\u001b[1;33m     \u001b[0mdf\u001b[0m \u001b[1;33m=\u001b[0m \u001b[0mpd\u001b[0m\u001b[1;33m.\u001b[0m\u001b[0mDataFrame\u001b[0m\u001b[1;33m(\u001b[0m\u001b[0mdatos\u001b[0m\u001b[1;33m)\u001b[0m\u001b[1;33m\u001b[0m\u001b[1;33m\u001b[0m\u001b[0m\n\u001b[0m\u001b[0;32m      3\u001b[0m     \u001b[0mdf\u001b[0m\u001b[1;33m.\u001b[0m\u001b[0mto_csv\u001b[0m\u001b[1;33m(\u001b[0m\u001b[0mnombre_archivo\u001b[0m\u001b[1;33m,\u001b[0m \u001b[0mindex\u001b[0m\u001b[1;33m=\u001b[0m\u001b[1;32mFalse\u001b[0m\u001b[1;33m,\u001b[0m \u001b[0mencoding\u001b[0m\u001b[1;33m=\u001b[0m\u001b[1;34m\"utf-8-sig\"\u001b[0m\u001b[1;33m)\u001b[0m\u001b[1;33m\u001b[0m\u001b[1;33m\u001b[0m\u001b[0m\n",
      "\u001b[1;32mc:\\Users\\OPERADOR\\AppData\\Local\\Programs\\Python\\Python311\\Lib\\site-packages\\pandas\\core\\frame.py\u001b[0m in \u001b[0;36m?\u001b[1;34m(self, data, index, columns, dtype, copy)\u001b[0m\n\u001b[0;32m    882\u001b[0m                 )\n\u001b[0;32m    883\u001b[0m         \u001b[1;31m# For data is scalar\u001b[0m\u001b[1;33m\u001b[0m\u001b[1;33m\u001b[0m\u001b[0m\n\u001b[0;32m    884\u001b[0m         \u001b[1;32melse\u001b[0m\u001b[1;33m:\u001b[0m\u001b[1;33m\u001b[0m\u001b[1;33m\u001b[0m\u001b[0m\n\u001b[0;32m    885\u001b[0m             \u001b[1;32mif\u001b[0m \u001b[0mindex\u001b[0m \u001b[1;32mis\u001b[0m \u001b[1;32mNone\u001b[0m \u001b[1;32mor\u001b[0m \u001b[0mcolumns\u001b[0m \u001b[1;32mis\u001b[0m \u001b[1;32mNone\u001b[0m\u001b[1;33m:\u001b[0m\u001b[1;33m\u001b[0m\u001b[1;33m\u001b[0m\u001b[0m\n\u001b[1;32m--> 886\u001b[1;33m                 \u001b[1;32mraise\u001b[0m \u001b[0mValueError\u001b[0m\u001b[1;33m(\u001b[0m\u001b[1;34m\"DataFrame constructor not properly called!\"\u001b[0m\u001b[1;33m)\u001b[0m\u001b[1;33m\u001b[0m\u001b[1;33m\u001b[0m\u001b[0m\n\u001b[0m\u001b[0;32m    887\u001b[0m \u001b[1;33m\u001b[0m\u001b[0m\n\u001b[0;32m    888\u001b[0m             \u001b[0mindex\u001b[0m \u001b[1;33m=\u001b[0m \u001b[0mensure_index\u001b[0m\u001b[1;33m(\u001b[0m\u001b[0mindex\u001b[0m\u001b[1;33m)\u001b[0m\u001b[1;33m\u001b[0m\u001b[1;33m\u001b[0m\u001b[0m\n\u001b[0;32m    889\u001b[0m             \u001b[0mcolumns\u001b[0m \u001b[1;33m=\u001b[0m \u001b[0mensure_index\u001b[0m\u001b[1;33m(\u001b[0m\u001b[0mcolumns\u001b[0m\u001b[1;33m)\u001b[0m\u001b[1;33m\u001b[0m\u001b[1;33m\u001b[0m\u001b[0m\n",
      "\u001b[1;31mValueError\u001b[0m: DataFrame constructor not properly called!"
     ]
    }
   ],
   "source": [
    "pdf_normalizar_texto  = guardar_csv(pdf_normalizar_texto)"
   ]
  }
 ],
 "metadata": {
  "kernelspec": {
   "display_name": "Python 3",
   "language": "python",
   "name": "python3"
  },
  "language_info": {
   "codemirror_mode": {
    "name": "ipython",
    "version": 3
   },
   "file_extension": ".py",
   "mimetype": "text/x-python",
   "name": "python",
   "nbconvert_exporter": "python",
   "pygments_lexer": "ipython3",
   "version": "3.11.9"
  }
 },
 "nbformat": 4,
 "nbformat_minor": 2
}

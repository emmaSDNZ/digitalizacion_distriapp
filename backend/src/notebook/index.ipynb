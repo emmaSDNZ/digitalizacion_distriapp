{
 "cells": [
  {
   "cell_type": "code",
   "execution_count": 105,
   "metadata": {},
   "outputs": [],
   "source": [
    "import pandas as pd\n",
    "import re\n",
    "import sys\n",
    "import os\n",
    "\n",
    "# Añadir la ruta del directorio data_utils al sys.path\n",
    "# Agregar la carpeta raíz 'data_utils' al sys.path\n",
    "sys.path.append(os.path.abspath('../'))\n"
   ]
  },
  {
   "cell_type": "code",
   "execution_count": 106,
   "metadata": {},
   "outputs": [],
   "source": [
    "from data_utils.configuraciones.variables import variables_data\n",
    "from data_utils.manipulacion_de_datos.maniuplacion_de_datos import  procesar_descripcion,   \\\n",
    "                                                                    estandarizado_columnas, \\\n",
    "                                                                    cargar_datos,           \\\n",
    "                                                                    generar_descripcion,    \\\n",
    "                                                                    procesar_descripcion,   \\\n",
    "                                                                    limpiar_datos\n",
    "from data_utils.manipulacion_de_datos.gestion_de_datos import indexar_productos\n",
    "from data_utils.funciones_de_busqueda.busqueda_por_filtro import filtrar_por_laboratorio\n",
    "from data_utils.funciones_de_busqueda.busquedas_por_texto import main_principal"
   ]
  },
  {
   "cell_type": "markdown",
   "metadata": {},
   "source": [
    "Instanciamientos de Clases"
   ]
  },
  {
   "cell_type": "code",
   "execution_count": 107,
   "metadata": {},
   "outputs": [],
   "source": [
    "variables_data = variables_data()"
   ]
  },
  {
   "cell_type": "markdown",
   "metadata": {},
   "source": [
    "Procesamiento df Master Producto"
   ]
  },
  {
   "cell_type": "code",
   "execution_count": 108,
   "metadata": {},
   "outputs": [
    {
     "name": "stderr",
     "output_type": "stream",
     "text": [
      "c:\\Users\\OPERADOR\\Desktop\\PROYECTO DIGITALIZACION\\digitalizacion_distriapp\\backend\\src\\data_utils\\manipulacion_de_datos\\maniuplacion_de_datos.py:15: DtypeWarning: Columns (7,14,17,18,21,28,39,42,46) have mixed types. Specify dtype option on import or set low_memory=False.\n",
      "  return pd.read_csv(ruta_csv)\n"
     ]
    }
   ],
   "source": [
    "#Carga de Producto\n",
    "df_Producto = cargar_datos(variables_data.csv_producto)\n",
    "df_Producto = limpiar_datos(df_Producto)\n",
    "df_Producto = indexar_productos(df_Producto,variables_data.index_productos)\n",
    "df_MasterProductos = generar_descripcion(df_Producto,variables_data.name_columna_1_MasterProductos,variables_data.name_columna_2_MasterProductos,variables_data.descripcion_limpia_MasterProductos)\n",
    "df_MasterProductos = procesar_descripcion(df_MasterProductos, variables_data.descripcion_limpia_MasterProductos)"
   ]
  },
  {
   "cell_type": "markdown",
   "metadata": {},
   "source": [
    "DataFrame Master Producto Filtrado por Laboratorio"
   ]
  },
  {
   "cell_type": "code",
   "execution_count": 121,
   "metadata": {},
   "outputs": [
    {
     "name": "stdout",
     "output_type": "stream",
     "text": [
      "Se encontraron 402 productos coincidentes del laboratorio 'Phoenix'.\n"
     ]
    }
   ],
   "source": [
    "# El usuario ingresa el nombre del laboratorio\n",
    "laboratorio_input = input(\"Ingresa el nombre del laboratorio: \").strip()\n",
    "# Filtrar productos por laboratorio\n",
    "df_MasterProductos_Filtro = filtrar_por_laboratorio(df_MasterProductos, laboratorio_input)"
   ]
  },
  {
   "cell_type": "markdown",
   "metadata": {},
   "source": [
    "DataFrame Proveedor"
   ]
  },
  {
   "cell_type": "code",
   "execution_count": 124,
   "metadata": {},
   "outputs": [],
   "source": [
    "#Carga Proveedor\n",
    "cvs_proveedor = 'Phoenix.csv'\n",
    "df_Proveedor = cargar_datos(cvs_proveedor)\n",
    "# Eliminar filas donde todas sus columnas están vacías\n",
    "df_Proveedor = limpiar_datos(df_Proveedor)\n",
    "#Indexacion \n",
    "df_Proveedor = indexar_productos(df_Proveedor,variables_data.index_proveedor)\n",
    "#Normalizacion de Columnas\n",
    "df_Proveedor = estandarizado_columnas(df_Proveedor,variables_data.name_columna_1_Proveedor,variables_data.name_columna_2_Proveedor,variables_data.descripcion_limpia_Proveedor)\n",
    "#Normalizacion de Columna Descripcion\n",
    "df_Proveedor = procesar_descripcion(df_Proveedor, variables_data.descripcion_limpia_Proveedor)"
   ]
  },
  {
   "cell_type": "markdown",
   "metadata": {},
   "source": [
    "Procesamiento CODIGO DE PRODUCTO"
   ]
  },
  {
   "cell_type": "code",
   "execution_count": 126,
   "metadata": {},
   "outputs": [
    {
     "data": {
      "text/plain": [
       "Index(['niprod', 'cod_prod', 'cod_abrev', 'descrip1', 'descrip2', 'abrev',\n",
       "       'cod_catprod', 'codbarra', 'cod_fbarra', 'unid_v', 'base_v', 'precio',\n",
       "       'mon_v', 'costo', 'base_c', 'unid_c', 'mon_c', 'rel_c_v', 'rel_v_c',\n",
       "       'unid_alt', 'rel_c_a', 'rel_a_c', 'cod_mone', 'habilitado', 'cod_bonif',\n",
       "       'pped', 'st_min', 'st_max', 'observ', 'pc_comision', 'pc_utilidad',\n",
       "       'ind_stock', 'ind_partidas', 'ind_camestado', 'ind_series', 'ind_fvto',\n",
       "       'ninum', 'tipo_egreso', 'pc_diftrans', 'cod_cvta', 'cat_item',\n",
       "       'cant_rep', 'pto_rep', 'atrib0', 'atrib1', 'atrib2', 'index_producto',\n",
       "       'descripcion_limpia_producto'],\n",
       "      dtype='object')"
      ]
     },
     "execution_count": 126,
     "metadata": {},
     "output_type": "execute_result"
    }
   ],
   "source": [
    "df_MasterProductos_Filtro.columns"
   ]
  },
  {
   "cell_type": "code",
   "execution_count": 129,
   "metadata": {},
   "outputs": [
    {
     "data": {
      "text/html": [
       "<div>\n",
       "<style scoped>\n",
       "    .dataframe tbody tr th:only-of-type {\n",
       "        vertical-align: middle;\n",
       "    }\n",
       "\n",
       "    .dataframe tbody tr th {\n",
       "        vertical-align: top;\n",
       "    }\n",
       "\n",
       "    .dataframe thead th {\n",
       "        text-align: right;\n",
       "    }\n",
       "</style>\n",
       "<table border=\"1\" class=\"dataframe\">\n",
       "  <thead>\n",
       "    <tr style=\"text-align: right;\">\n",
       "      <th></th>\n",
       "      <th>publicado/\\nno publicado</th>\n",
       "      <th>u n</th>\n",
       "      <th>linea</th>\n",
       "      <th>ean</th>\n",
       "      <th>cod. dispro</th>\n",
       "      <th>cod. elea</th>\n",
       "      <th>cod. cid latina</th>\n",
       "      <th>registro alfabeta</th>\n",
       "      <th>codigo kairos</th>\n",
       "      <th>pami</th>\n",
       "      <th>certif nro</th>\n",
       "      <th>descripcion</th>\n",
       "      <th>presentacion</th>\n",
       "      <th>index_proveedor</th>\n",
       "      <th>descripcion_limpia_proveedor</th>\n",
       "    </tr>\n",
       "  </thead>\n",
       "  <tbody>\n",
       "    <tr>\n",
       "      <th>0</th>\n",
       "      <td>PUBLICADO</td>\n",
       "      <td>BIO</td>\n",
       "      <td>Biotecnología</td>\n",
       "      <td>7796285049928</td>\n",
       "      <td>14954</td>\n",
       "      <td>24992</td>\n",
       "      <td>2000601.0</td>\n",
       "      <td>27613</td>\n",
       "      <td>NaN</td>\n",
       "      <td>NaN</td>\n",
       "      <td>48650</td>\n",
       "      <td>3TC + AZT ELEA</td>\n",
       "      <td>Env. x 60 comprimidos</td>\n",
       "      <td>0</td>\n",
       "      <td>3 tc  azt elea envase x 60 comprimidos</td>\n",
       "    </tr>\n",
       "    <tr>\n",
       "      <th>1</th>\n",
       "      <td>PUBLICADO</td>\n",
       "      <td>BIO</td>\n",
       "      <td>Biotecnología</td>\n",
       "      <td>7796285050658</td>\n",
       "      <td>17100</td>\n",
       "      <td>25065</td>\n",
       "      <td>2003701.0</td>\n",
       "      <td>32410</td>\n",
       "      <td>NaN</td>\n",
       "      <td>NaN</td>\n",
       "      <td>49022</td>\n",
       "      <td>ABACAVIR ELEA</td>\n",
       "      <td>Env. x 60 comprimidos recub.</td>\n",
       "      <td>1</td>\n",
       "      <td>abacavir elea envase x 60 comprimidos recub</td>\n",
       "    </tr>\n",
       "    <tr>\n",
       "      <th>2</th>\n",
       "      <td>PUBLICADO</td>\n",
       "      <td>BIO</td>\n",
       "      <td>Biotecnología</td>\n",
       "      <td>7796285283551</td>\n",
       "      <td>19341</td>\n",
       "      <td>28355</td>\n",
       "      <td>NaN</td>\n",
       "      <td>56653</td>\n",
       "      <td>NaN</td>\n",
       "      <td>NaN</td>\n",
       "      <td>58983</td>\n",
       "      <td>ALCAF</td>\n",
       "      <td>60mg F. Amp. Polvo x 1</td>\n",
       "      <td>2</td>\n",
       "      <td>alcaf 60 miligramos f ampolla polvo x 1</td>\n",
       "    </tr>\n",
       "    <tr>\n",
       "      <th>3</th>\n",
       "      <td>PUBLICADO</td>\n",
       "      <td>BIO</td>\n",
       "      <td>Biotecnología</td>\n",
       "      <td>7796285283520</td>\n",
       "      <td>19869</td>\n",
       "      <td>28352</td>\n",
       "      <td>NaN</td>\n",
       "      <td>60305</td>\n",
       "      <td>NaN</td>\n",
       "      <td>NaN</td>\n",
       "      <td>NaN</td>\n",
       "      <td>BENJOR</td>\n",
       "      <td>50 mg x comp x 30</td>\n",
       "      <td>3</td>\n",
       "      <td>benjor 50 miligramos x comprimidos x 30</td>\n",
       "    </tr>\n",
       "    <tr>\n",
       "      <th>4</th>\n",
       "      <td>PUBLICADO</td>\n",
       "      <td>BIO</td>\n",
       "      <td>Biotecnología</td>\n",
       "      <td>7796285277833</td>\n",
       "      <td>17779</td>\n",
       "      <td>27783</td>\n",
       "      <td>NaN</td>\n",
       "      <td>53125</td>\n",
       "      <td>NaN</td>\n",
       "      <td>NaN</td>\n",
       "      <td>57934</td>\n",
       "      <td>BEVAX 100 MG</td>\n",
       "      <td>Env x 1 vial de 4 ml.</td>\n",
       "      <td>4</td>\n",
       "      <td>beva x 100 miligramos envase x 1 vial de 4 mil...</td>\n",
       "    </tr>\n",
       "    <tr>\n",
       "      <th>5</th>\n",
       "      <td>PUBLICADO</td>\n",
       "      <td>BIO</td>\n",
       "      <td>Biotecnología</td>\n",
       "      <td>7796285277840</td>\n",
       "      <td>17780</td>\n",
       "      <td>27784</td>\n",
       "      <td>NaN</td>\n",
       "      <td>53126</td>\n",
       "      <td>NaN</td>\n",
       "      <td>NaN</td>\n",
       "      <td>57934</td>\n",
       "      <td>BEVAX 400 MG</td>\n",
       "      <td>Env x 1 vial de 16 ml.</td>\n",
       "      <td>5</td>\n",
       "      <td>beva x 400 miligramos envase x 1 vial de 16 mi...</td>\n",
       "    </tr>\n",
       "    <tr>\n",
       "      <th>6</th>\n",
       "      <td>PUBLICADO</td>\n",
       "      <td>BIO</td>\n",
       "      <td>Biotecnología</td>\n",
       "      <td>7798122690010</td>\n",
       "      <td>18984</td>\n",
       "      <td>11001</td>\n",
       "      <td>2223601.0</td>\n",
       "      <td>15334</td>\n",
       "      <td>NaN</td>\n",
       "      <td>NaN</td>\n",
       "      <td>43271</td>\n",
       "      <td>BIOVAC HB 10 MCG</td>\n",
       "      <td>Inyectable Fco ampolla x 0,5ml</td>\n",
       "      <td>6</td>\n",
       "      <td>biovac hb 10 microgramo inyectable frasco ampo...</td>\n",
       "    </tr>\n",
       "    <tr>\n",
       "      <th>7</th>\n",
       "      <td>PUBLICADO</td>\n",
       "      <td>BIO</td>\n",
       "      <td>Biotecnología</td>\n",
       "      <td>7798122690027</td>\n",
       "      <td>18985</td>\n",
       "      <td>11002</td>\n",
       "      <td>2223602.0</td>\n",
       "      <td>15335</td>\n",
       "      <td>NaN</td>\n",
       "      <td>NaN</td>\n",
       "      <td>43271</td>\n",
       "      <td>BIOVAC HB 20 MCG</td>\n",
       "      <td>Inyectable. Fco ampolla x 1 ml.</td>\n",
       "      <td>7</td>\n",
       "      <td>biovac hb 20 microgramo inyectable frasco ampo...</td>\n",
       "    </tr>\n",
       "    <tr>\n",
       "      <th>8</th>\n",
       "      <td>PUBLICADO</td>\n",
       "      <td>BIO</td>\n",
       "      <td>Biotecnología</td>\n",
       "      <td>7796285283490</td>\n",
       "      <td>19795</td>\n",
       "      <td>28349</td>\n",
       "      <td>NaN</td>\n",
       "      <td>58517</td>\n",
       "      <td>NaN</td>\n",
       "      <td>NaN</td>\n",
       "      <td>59037</td>\n",
       "      <td>BROCABE</td>\n",
       "      <td>140mx x 120 cápsulas</td>\n",
       "      <td>8</td>\n",
       "      <td>brocabe 140 m x x 120 cpsulas</td>\n",
       "    </tr>\n",
       "    <tr>\n",
       "      <th>9</th>\n",
       "      <td>PUBLICADO</td>\n",
       "      <td>BIO</td>\n",
       "      <td>Biotecnología</td>\n",
       "      <td>7796285287108</td>\n",
       "      <td>19794</td>\n",
       "      <td>28710</td>\n",
       "      <td>NaN</td>\n",
       "      <td>58516</td>\n",
       "      <td>NaN</td>\n",
       "      <td>NaN</td>\n",
       "      <td>59037</td>\n",
       "      <td>BROCABE</td>\n",
       "      <td>140mx x 90 cápsulas</td>\n",
       "      <td>9</td>\n",
       "      <td>brocabe 140 m x x 90 cpsulas</td>\n",
       "    </tr>\n",
       "  </tbody>\n",
       "</table>\n",
       "</div>"
      ],
      "text/plain": [
       "  publicado/\\nno publicado  u n          linea            ean  cod. dispro  \\\n",
       "0                PUBLICADO  BIO  Biotecnología  7796285049928        14954   \n",
       "1                PUBLICADO  BIO  Biotecnología  7796285050658        17100   \n",
       "2                PUBLICADO  BIO  Biotecnología  7796285283551        19341   \n",
       "3                PUBLICADO  BIO  Biotecnología  7796285283520        19869   \n",
       "4                PUBLICADO  BIO  Biotecnología  7796285277833        17779   \n",
       "5                PUBLICADO  BIO  Biotecnología  7796285277840        17780   \n",
       "6                PUBLICADO  BIO  Biotecnología  7798122690010        18984   \n",
       "7                PUBLICADO  BIO  Biotecnología  7798122690027        18985   \n",
       "8                PUBLICADO  BIO  Biotecnología  7796285283490        19795   \n",
       "9                PUBLICADO  BIO  Biotecnología  7796285287108        19794   \n",
       "\n",
       "   cod. elea  cod. cid latina registro alfabeta  codigo kairos pami  \\\n",
       "0      24992        2000601.0             27613            NaN  NaN   \n",
       "1      25065        2003701.0             32410            NaN  NaN   \n",
       "2      28355              NaN             56653            NaN  NaN   \n",
       "3      28352              NaN             60305            NaN  NaN   \n",
       "4      27783              NaN             53125            NaN  NaN   \n",
       "5      27784              NaN             53126            NaN  NaN   \n",
       "6      11001        2223601.0             15334            NaN  NaN   \n",
       "7      11002        2223602.0             15335            NaN  NaN   \n",
       "8      28349              NaN             58517            NaN  NaN   \n",
       "9      28710              NaN             58516            NaN  NaN   \n",
       "\n",
       "  certif nro       descripcion                     presentacion  \\\n",
       "0      48650   3TC + AZT ELEA             Env. x 60 comprimidos   \n",
       "1      49022     ABACAVIR ELEA     Env. x 60 comprimidos recub.   \n",
       "2      58983            ALCAF            60mg F. Amp. Polvo x 1   \n",
       "3        NaN            BENJOR                50 mg x comp x 30   \n",
       "4      57934      BEVAX 100 MG            Env x 1 vial de 4 ml.   \n",
       "5      57934      BEVAX 400 MG           Env x 1 vial de 16 ml.   \n",
       "6      43271  BIOVAC HB 10 MCG   Inyectable Fco ampolla x 0,5ml   \n",
       "7      43271  BIOVAC HB 20 MCG  Inyectable. Fco ampolla x 1 ml.   \n",
       "8      59037           BROCABE             140mx x 120 cápsulas   \n",
       "9      59037           BROCABE              140mx x 90 cápsulas   \n",
       "\n",
       "   index_proveedor                       descripcion_limpia_proveedor  \n",
       "0                0             3 tc  azt elea envase x 60 comprimidos  \n",
       "1                1        abacavir elea envase x 60 comprimidos recub  \n",
       "2                2            alcaf 60 miligramos f ampolla polvo x 1  \n",
       "3                3            benjor 50 miligramos x comprimidos x 30  \n",
       "4                4  beva x 100 miligramos envase x 1 vial de 4 mil...  \n",
       "5                5  beva x 400 miligramos envase x 1 vial de 16 mi...  \n",
       "6                6  biovac hb 10 microgramo inyectable frasco ampo...  \n",
       "7                7  biovac hb 20 microgramo inyectable frasco ampo...  \n",
       "8                8                      brocabe 140 m x x 120 cpsulas  \n",
       "9                9                       brocabe 140 m x x 90 cpsulas  "
      ]
     },
     "execution_count": 129,
     "metadata": {},
     "output_type": "execute_result"
    }
   ],
   "source": [
    "df_Proveedor.head(10)"
   ]
  },
  {
   "cell_type": "markdown",
   "metadata": {},
   "source": [
    "Procesamiento NLP DESCRIPCION"
   ]
  },
  {
   "cell_type": "code",
   "execution_count": 130,
   "metadata": {},
   "outputs": [],
   "source": [
    "df_resultado_similiridad = main_principal(df_MasterProductos_Filtro, df_Proveedor)\n",
    "#df_resultado_similiridad"
   ]
  },
  {
   "cell_type": "markdown",
   "metadata": {},
   "source": [
    "Procesamiento para comparacion de  Descripciones"
   ]
  },
  {
   "cell_type": "code",
   "execution_count": 118,
   "metadata": {},
   "outputs": [
    {
     "data": {
      "text/html": [
       "<div>\n",
       "<style scoped>\n",
       "    .dataframe tbody tr th:only-of-type {\n",
       "        vertical-align: middle;\n",
       "    }\n",
       "\n",
       "    .dataframe tbody tr th {\n",
       "        vertical-align: top;\n",
       "    }\n",
       "\n",
       "    .dataframe thead th {\n",
       "        text-align: right;\n",
       "    }\n",
       "</style>\n",
       "<table border=\"1\" class=\"dataframe\">\n",
       "  <thead>\n",
       "    <tr style=\"text-align: right;\">\n",
       "      <th></th>\n",
       "      <th>similaridad</th>\n",
       "      <th>niprod</th>\n",
       "      <th>cod_prod</th>\n",
       "      <th>descripcion_limpia_proveedor</th>\n",
       "      <th>descripcion_limpia_producto</th>\n",
       "      <th>index_proveedor_y</th>\n",
       "      <th>ean_x</th>\n",
       "      <th>codbarra</th>\n",
       "    </tr>\n",
       "  </thead>\n",
       "  <tbody>\n",
       "    <tr>\n",
       "      <th>470</th>\n",
       "      <td>0.938959</td>\n",
       "      <td>91093.0</td>\n",
       "      <td>20310</td>\n",
       "      <td>loreme x descongestivo comprimidos x 5</td>\n",
       "      <td>loreme x descongestivo comprimidos x 10</td>\n",
       "      <td>470</td>\n",
       "      <td>7791848079022</td>\n",
       "      <td>7791848079015</td>\n",
       "    </tr>\n",
       "    <tr>\n",
       "      <th>513</th>\n",
       "      <td>0.890747</td>\n",
       "      <td>91160.0</td>\n",
       "      <td>12676</td>\n",
       "      <td>neumote x nebu x 20 mililitros</td>\n",
       "      <td>neumote x nebu envase x 20 mililitros</td>\n",
       "      <td>513</td>\n",
       "      <td>7791848245007</td>\n",
       "      <td>7791848244901.0</td>\n",
       "    </tr>\n",
       "  </tbody>\n",
       "</table>\n",
       "</div>"
      ],
      "text/plain": [
       "     similaridad   niprod cod_prod            descripcion_limpia_proveedor  \\\n",
       "470     0.938959  91093.0    20310  loreme x descongestivo comprimidos x 5   \n",
       "513     0.890747  91160.0    12676          neumote x nebu x 20 mililitros   \n",
       "\n",
       "                 descripcion_limpia_producto  index_proveedor_y  \\\n",
       "470  loreme x descongestivo comprimidos x 10                470   \n",
       "513    neumote x nebu envase x 20 mililitros                513   \n",
       "\n",
       "             ean_x         codbarra  \n",
       "470  7791848079022    7791848079015  \n",
       "513  7791848245007  7791848244901.0  "
      ]
     },
     "execution_count": 118,
     "metadata": {},
     "output_type": "execute_result"
    }
   ],
   "source": [
    "df_resultado_similiridad[df_resultado_similiridad['similaridad'] > 0.8][['similaridad', 'niprod', 'cod_prod', 'descripcion_limpia_proveedor', 'descripcion_limpia_producto', 'index_proveedor_y','ean_x','codbarra']]"
   ]
  },
  {
   "cell_type": "markdown",
   "metadata": {},
   "source": [
    "INDEX DE SUSTRACCION PARA EL DF PROVEEDOR"
   ]
  },
  {
   "cell_type": "code",
   "execution_count": 119,
   "metadata": {},
   "outputs": [
    {
     "data": {
      "text/html": [
       "<div>\n",
       "<style scoped>\n",
       "    .dataframe tbody tr th:only-of-type {\n",
       "        vertical-align: middle;\n",
       "    }\n",
       "\n",
       "    .dataframe tbody tr th {\n",
       "        vertical-align: top;\n",
       "    }\n",
       "\n",
       "    .dataframe thead th {\n",
       "        text-align: right;\n",
       "    }\n",
       "</style>\n",
       "<table border=\"1\" class=\"dataframe\">\n",
       "  <thead>\n",
       "    <tr style=\"text-align: right;\">\n",
       "      <th></th>\n",
       "      <th>publicado/\\nno publicado</th>\n",
       "      <th>u n</th>\n",
       "      <th>linea</th>\n",
       "      <th>ean</th>\n",
       "      <th>cod. dispro</th>\n",
       "      <th>cod. elea</th>\n",
       "      <th>cod. cid latina</th>\n",
       "      <th>registro alfabeta</th>\n",
       "      <th>codigo kairos</th>\n",
       "      <th>pami</th>\n",
       "      <th>certif nro</th>\n",
       "      <th>descripcion</th>\n",
       "      <th>presentacion</th>\n",
       "      <th>index_proveedor</th>\n",
       "      <th>descripcion_limpia_proveedor</th>\n",
       "    </tr>\n",
       "  </thead>\n",
       "  <tbody>\n",
       "    <tr>\n",
       "      <th>470</th>\n",
       "      <td>PUBLICADO</td>\n",
       "      <td>P.C.</td>\n",
       "      <td>Vías Respiratorias</td>\n",
       "      <td>7791848079022</td>\n",
       "      <td>4902</td>\n",
       "      <td>28235</td>\n",
       "      <td>2935001.0</td>\n",
       "      <td>30102</td>\n",
       "      <td>174041.0</td>\n",
       "      <td>NaN</td>\n",
       "      <td>46244</td>\n",
       "      <td>LOREMEX DESCONGESTIVO</td>\n",
       "      <td>Comprimidos x 5</td>\n",
       "      <td>470</td>\n",
       "      <td>loreme x descongestivo comprimidos x 5</td>\n",
       "    </tr>\n",
       "    <tr>\n",
       "      <th>513</th>\n",
       "      <td>PUBLICADO</td>\n",
       "      <td>P.C.</td>\n",
       "      <td>Vías Respiratorias</td>\n",
       "      <td>7791848245007</td>\n",
       "      <td>13963</td>\n",
       "      <td>28161</td>\n",
       "      <td>3072501.0</td>\n",
       "      <td>45886</td>\n",
       "      <td>80332.0</td>\n",
       "      <td>3917062</td>\n",
       "      <td>43966</td>\n",
       "      <td>NEUMOTEX NEBU</td>\n",
       "      <td>X 20 ML.</td>\n",
       "      <td>513</td>\n",
       "      <td>neumote x nebu x 20 mililitros</td>\n",
       "    </tr>\n",
       "  </tbody>\n",
       "</table>\n",
       "</div>"
      ],
      "text/plain": [
       "    publicado/\\nno publicado   u n               linea            ean  \\\n",
       "470                PUBLICADO  P.C.  Vías Respiratorias  7791848079022   \n",
       "513                PUBLICADO  P.C.  Vías Respiratorias  7791848245007   \n",
       "\n",
       "     cod. dispro  cod. elea  cod. cid latina registro alfabeta  codigo kairos  \\\n",
       "470         4902      28235        2935001.0             30102       174041.0   \n",
       "513        13963      28161        3072501.0             45886        80332.0   \n",
       "\n",
       "        pami certif nro            descripcion                  presentacion  \\\n",
       "470      NaN      46244  LOREMEX DESCONGESTIVO               Comprimidos x 5   \n",
       "513  3917062      43966          NEUMOTEX NEBU  X 20 ML.                       \n",
       "\n",
       "     index_proveedor            descripcion_limpia_proveedor  \n",
       "470              470  loreme x descongestivo comprimidos x 5  \n",
       "513              513          neumote x nebu x 20 mililitros  "
      ]
     },
     "execution_count": 119,
     "metadata": {},
     "output_type": "execute_result"
    }
   ],
   "source": [
    "#Sutraccion de productos sobre df ORIGINAL DE PROVEEDORES.\n",
    "similiridad = 'similaridad'\n",
    "\n",
    "umbral_similaridad = 0.8  # Ajusta este valor según tu caso\n",
    "df_filtrado_similaridad = df_resultado_similiridad[df_resultado_similiridad[similiridad] > umbral_similaridad]\n",
    "\n",
    "# Ahora, con los índices originales, extraemos los productos del df_Proveedor\n",
    "# Filtramos por 'indice_original_proveedor' para obtener solo las filas que superaron el umbral\n",
    "df_Proveedor_Similiridad_filtrado = df_Proveedor[df_Proveedor[variables_data.index_proveedor].isin(df_filtrado_similaridad['index_proveedor_x'])]\n",
    "\n",
    "# Mostrar los productos filtrados del proveedor\n",
    "df_Proveedor_Similiridad_filtrado\n"
   ]
  },
  {
   "cell_type": "code",
   "execution_count": 120,
   "metadata": {},
   "outputs": [
    {
     "data": {
      "text/plain": [
       "Index(['niprod', 'cod_prod', 'cod_abrev', 'descrip1', 'descrip2', 'abrev',\n",
       "       'cod_catprod', 'codbarra', 'cod_fbarra', 'unid_v', 'base_v', 'precio',\n",
       "       'mon_v', 'costo', 'base_c', 'unid_c', 'mon_c', 'rel_c_v', 'rel_v_c',\n",
       "       'unid_alt', 'rel_c_a', 'rel_a_c', 'cod_mone', 'habilitado', 'cod_bonif',\n",
       "       'pped', 'st_min', 'st_max', 'observ', 'pc_comision', 'pc_utilidad',\n",
       "       'ind_stock', 'ind_partidas', 'ind_camestado', 'ind_series', 'ind_fvto',\n",
       "       'ninum', 'tipo_egreso', 'pc_diftrans', 'cod_cvta', 'cat_item',\n",
       "       'cant_rep', 'pto_rep', 'atrib0', 'atrib1', 'atrib2', 'index_producto',\n",
       "       'descripcion_limpia_producto'],\n",
       "      dtype='object')"
      ]
     },
     "execution_count": 120,
     "metadata": {},
     "output_type": "execute_result"
    }
   ],
   "source": [
    "df_MasterProductos.columns\n",
    "\n",
    "#Arquitectura df_Productos\n",
    " \n",
    "# Niprod = Sistema Carena\n",
    "# ean = ????\n",
    "# descrip1 = Descripcion Provedor\n",
    "# descrip2 = Presentacion Proveedor\n",
    "# atrib0   = laboratorio\n",
    "# codbarra = codbarra\n",
    "#cod_prod  = codigo_producto_laboratorio"
   ]
  }
 ],
 "metadata": {
  "kernelspec": {
   "display_name": "Python 3",
   "language": "python",
   "name": "python3"
  },
  "language_info": {
   "codemirror_mode": {
    "name": "ipython",
    "version": 3
   },
   "file_extension": ".py",
   "mimetype": "text/x-python",
   "name": "python",
   "nbconvert_exporter": "python",
   "pygments_lexer": "ipython3",
   "version": "3.11.9"
  }
 },
 "nbformat": 4,
 "nbformat_minor": 2
}

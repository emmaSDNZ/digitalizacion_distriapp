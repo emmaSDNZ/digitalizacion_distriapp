{
 "cells": [
  {
   "cell_type": "code",
   "execution_count": 47,
   "metadata": {},
   "outputs": [],
   "source": [
    "import pandas as pd\n",
    "import re\n",
    "import sys"
   ]
  },
  {
   "cell_type": "markdown",
   "metadata": {},
   "source": []
  },
  {
   "cell_type": "code",
   "execution_count": 48,
   "metadata": {},
   "outputs": [
    {
     "name": "stdout",
     "output_type": "stream",
     "text": [
      "Ruta de modulos: C:\\Users\\OPERADOR\\Desktop\\PROYECTO DIGITALIZACION\\digitalizacion_distriapp\\backend\\src\\modulos\n"
     ]
    }
   ],
   "source": [
    "#Modulo que  agrega el path de los modulos al sys.path\n",
    "from pathlib import Path\n",
    "\n",
    "# Obtener la ruta al directorio \"modulos\"\n",
    "ruta_modulos = Path(\"../modulos\").resolve()\n",
    "\n",
    "# Agregar la ruta al sys.path\n",
    "if str(ruta_modulos) not in sys.path:\n",
    "    sys.path.append(str(ruta_modulos))          \n",
    "\n",
    "# Obtener la ruta al directorio \"modulos\"\n",
    "ruta_modulos = Path(\"../modulos\").resolve()\n",
    "print(f\"Ruta de modulos: {ruta_modulos}\")  # Verifica la ruta que se obtiene\n"
   ]
  },
  {
   "cell_type": "code",
   "execution_count": 52,
   "metadata": {},
   "outputs": [],
   "source": [
    "# Carga de datos\n",
    "df_proveedor = cargar_datos(\"prueba2.csv\")\n",
    "df_productos = cargar_datos(\"p_STProPrv.csv\")"
   ]
  },
  {
   "cell_type": "code",
   "execution_count": 50,
   "metadata": {},
   "outputs": [],
   "source": [
    "#Copias del DataFrame \n",
    "copy_dfProductos = df_productos\n",
    "copy_dfProveedores = df_proveedor"
   ]
  },
  {
   "cell_type": "code",
   "execution_count": 53,
   "metadata": {},
   "outputs": [
    {
     "data": {
      "text/plain": [
       "0                                FADA MESNA 200 mg a.x 10\n",
       "1                                    BOTOX 100 U vial x 1\n",
       "2                                    BOTOX 200 U vial x 1\n",
       "3                             ENSURE vainilla pvo.x 400 g\n",
       "4                     ENSURE ADVANCE vainilla pvo.x 400 g\n",
       "                              ...                        \n",
       "5618           MASCARA BUCO-NASAL YF02.T:S  - MARCA YUWEL\n",
       "5619                            LIDOXA jalea x 20 x 25 ml\n",
       "5620    AGALSIDASA ALFA 1MG/ML F.A. X3.5ML - REPLAGAL ...\n",
       "5621                            JEVITY PLUS bot.x 1000 ml\n",
       "5622                CAL SODADA DRAGER DRAGERSORB 800 PLUS\n",
       "Name: des_prod, Length: 5623, dtype: object"
      ]
     },
     "execution_count": 53,
     "metadata": {},
     "output_type": "execute_result"
    }
   ],
   "source": [
    "copy_dfProductos[\"des_prod\"]"
   ]
  },
  {
   "cell_type": "code",
   "execution_count": 44,
   "metadata": {},
   "outputs": [
    {
     "data": {
      "text/plain": [
       "0     HUMIRA AC x 2 (20mg)\\nHUMIRA AC x 2 (40mg) HUM...\n",
       "1                  RINVOQ 15MG RINVOQ 30MG\\nRINVOQ 45MG\n",
       "2                              SKYRIZI SKYRIZI\\nSKYRIZI\n",
       "3     KALETRA SOLUCIÓN\\nKALETRA COMPRIMIDOS KALETRA ...\n",
       "4                                             RITONAVIR\n",
       "5                                               MAVIRET\n",
       "6              VENCLEXTA VENCLEXTA VENCLEXTA\\nVENCLEXTA\n",
       "7                         SEVORANE\\nSEVORANE QUICK FILL\n",
       "8                                    SURVANTA\\nSURVANTA\n",
       "9                           ZEMPLAR VIAL\\nZEMPLAR 2 MCG\n",
       "10                                         BOTOX\\nBOTOX\n",
       "11                                              OZURDEX\n",
       "Name: DESCRIPCIÓN, dtype: object"
      ]
     },
     "execution_count": 44,
     "metadata": {},
     "output_type": "execute_result"
    }
   ],
   "source": [
    "copy_dfProveedores[\"DESCRIPCIÓN\"]"
   ]
  },
  {
   "cell_type": "code",
   "execution_count": 61,
   "metadata": {},
   "outputs": [],
   "source": [
    "import re\n",
    "\n",
    "def clear_column(column):\n",
    "    \"\"\"\n",
    "    Limpiar la columna de descripciones para eliminar términos irrelevantes y normalizar el texto.\n",
    "    \"\"\"\n",
    "    # Expresión regular optimizada para eliminar números, unidades, abreviaciones, y términos irrelevantes\n",
    "    columna_limpia = re.sub(r'\\b(\\d+|mg|comp\\.?|blisters?|estuche|x|ml|unidades|marca|botella|caja|referencia|cm|g|m|f\\.a\\.x|jbe\\.|sol\\.|env\\.|lata|vial|pvo\\.|sobres|gotero|cápsulas|frascos?|blister|bot\\.|mcg|sp|p\\.b\\.)\\b', '', column, flags=re.IGNORECASE)\n",
    "    \n",
    "    # Eliminar caracteres especiales como los dos puntos, puntos finales, guiones, comas, etc.\n",
    "    columna_limpia = re.sub(r'[:\\.\\-,;()]', '', columna_limpia)\n",
    "\n",
    "    # Eliminar múltiples espacios en blanco y normalizar la columna\n",
    "    columna_limpia = re.sub(r'\\s+', ' ', columna_limpia).strip()\n",
    "\n",
    "    # Convertir todo el texto a minúsculas\n",
    "    columna_limpia = columna_limpia.lower()\n",
    "\n",
    "    # Eliminar posibles palabras vacías adicionales que puedan quedar\n",
    "    columna_limpia = re.sub(r'\\b(?:de|la|el|en|a|y|con|para|del|sobre|en|por|para|con|medicamento|tratamiento|ac)\\b', '', columna_limpia).strip()\n",
    "\n",
    "    # Opción adicional para quitar palabras repetidas o redundantes (como 'skyrizi skyrizi')\n",
    "    columna_limpia = re.sub(r'\\b(\\w+)\\s+\\1\\b', r'\\1', columna_limpia)\n",
    "\n",
    "    # Eliminar términos relacionados con la variabilidad en dosis o presentación (por ejemplo, \"20mg\", \"30mg\", etc.)\n",
    "    columna_limpia = re.sub(r'\\b(\\d+mg|\\d+g|\\d+ml)\\b', '', columna_limpia)\n",
    "\n",
    "    return columna_limpia\n",
    "\n",
    "\n",
    "# Función para obtener coincidencias entre las columnas y agregar una columna 'match'\n",
    "def obtener_coincidencias_con_match(productos_df, proveedores_df, col_productos, col_proveedores):\n",
    "    \"\"\"\n",
    "    Realiza un match entre las columnas especificadas de dos DataFrames y agrega una columna 'match'.\n",
    "    \n",
    "    Parámetros:\n",
    "        productos_df (DataFrame): DataFrame de productos.\n",
    "        proveedores_df (DataFrame): DataFrame de proveedores.\n",
    "        col_productos (str): Nombre de la columna en productos.\n",
    "        col_proveedores (str): Nombre de la columna en proveedores.\n",
    "        \n",
    "    Retorna:\n",
    "        DataFrame: DataFrame con las coincidencias y una columna 'match'.\n",
    "    \"\"\"\n",
    "    # Limpiar ambas columnas antes de realizar la comparación\n",
    "    productos_df[col_productos] = productos_df[col_productos].apply(lambda x: clear_column(str(x)))\n",
    "    proveedores_df[col_proveedores] = proveedores_df[col_proveedores].apply(lambda x: clear_column(str(x)))\n",
    "    \n",
    "    resultados = []\n",
    "\n",
    "    # Iterar por cada descripción en proveedores\n",
    "    for _, proveedor in proveedores_df.iterrows():\n",
    "        descripcion_proveedor = proveedor[col_proveedores]\n",
    "        \n",
    "        # Buscar coincidencias en los productos\n",
    "        coincidencias = productos_df[\n",
    "            productos_df[col_productos].str.contains(descripcion_proveedor, case=False, na=False)\n",
    "        ]\n",
    "        \n",
    "        # Agregar coincidencias al resultado\n",
    "        if not coincidencias.empty:\n",
    "            for _, producto in coincidencias.iterrows():\n",
    "                resultado = {**proveedor.to_dict(), **producto.to_dict(), \"match\": True}\n",
    "                resultados.append(resultado)\n",
    "        else:\n",
    "            # Si no hay coincidencias, agregar el proveedor con valores nulos para los productos\n",
    "            resultado = proveedor.to_dict()\n",
    "            for col in productos_df.columns:\n",
    "                resultado[col] = None\n",
    "            resultado[\"match\"] = False\n",
    "            resultados.append(resultado)\n",
    "    \n",
    "    return pd.DataFrame(resultados)\n",
    "\n",
    "# Llamar Match a la función con tus DataFrames\n",
    "resultado_df = obtener_coincidencias_con_match(\n",
    "    productos_df=copy_dfProductos,\n",
    "    proveedores_df=copy_dfProveedores,\n",
    "    col_productos=\"des_prod\",\n",
    "    col_proveedores=\"DESCRIPCIÓN\"\n",
    ")\n"
   ]
  },
  {
   "cell_type": "code",
   "execution_count": 62,
   "metadata": {},
   "outputs": [
    {
     "data": {
      "text/plain": [
       "0                                        humira  humira\n",
       "1                                         rinvoq rinvoq\n",
       "2                                               skyrizi\n",
       "3     kaletra solución kaletra comprimidos kaletra c...\n",
       "4                                             ritonavir\n",
       "5                                               maviret\n",
       "6                                             venclexta\n",
       "7                                             venclexta\n",
       "8                                   sevorane quick fill\n",
       "9                                   sevorane quick fill\n",
       "10                                             survanta\n",
       "11                                              zemplar\n",
       "12                                                botox\n",
       "13                                                botox\n",
       "14                                                botox\n",
       "15                                                botox\n",
       "16                                                botox\n",
       "17                                                botox\n",
       "18                                              ozurdex\n",
       "Name: DESCRIPCIÓN, dtype: object"
      ]
     },
     "execution_count": 62,
     "metadata": {},
     "output_type": "execute_result"
    }
   ],
   "source": [
    "# Mostrar el DataFrame resultante\n",
    "resultado_df"
   ]
  }
 ],
 "metadata": {
  "kernelspec": {
   "display_name": "Python (venv)",
   "language": "python",
   "name": "mi_entorno"
  },
  "language_info": {
   "codemirror_mode": {
    "name": "ipython",
    "version": 3
   },
   "file_extension": ".py",
   "mimetype": "text/x-python",
   "name": "python",
   "nbconvert_exporter": "python",
   "pygments_lexer": "ipython3",
   "version": "3.13.1"
  }
 },
 "nbformat": 4,
 "nbformat_minor": 2
}
